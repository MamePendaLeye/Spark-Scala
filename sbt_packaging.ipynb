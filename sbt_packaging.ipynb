{
 "cells": [
  {
   "cell_type": "markdown",
   "metadata": {},
   "source": [
    "## Complie, Run, packaging scala Project avec sbt"
   ]
  },
  {
   "cell_type": "raw",
   "metadata": {},
   "source": [
    "//Exemple de code\n",
    "package com.hello.world\n",
    "\n",
    "object Main extends App {\n",
    "    println(\"Hello, world\")\n",
    "}"
   ]
  },
  {
   "cell_type": "raw",
   "metadata": {},
   "source": [
    "// Compilation\n",
    "sbt compile"
   ]
  },
  {
   "cell_type": "raw",
   "metadata": {},
   "source": [
    "// Execution\n",
    "sbt run"
   ]
  },
  {
   "cell_type": "raw",
   "metadata": {},
   "source": [
    "// Packaging en jar file\n",
    "sbt package\n",
    "\n",
    "sbt clean package"
   ]
  },
  {
   "cell_type": "raw",
   "metadata": {},
   "source": [
    "Lister les jar files\n",
    "jar tvf target/scala-2.12/hello_2.12-0.1.0-SNAPSHOT.jar"
   ]
  },
  {
   "cell_type": "raw",
   "metadata": {},
   "source": [
    "//Execution du jar\n",
    "scala target/scala-2.10/"
   ]
  },
  {
   "cell_type": "markdown",
   "metadata": {},
   "source": [
    "**Plus de details voir le lien ci-dessous\n",
    "https://www.scala-sbt.org/1.x/docs/"
   ]
  },
  {
   "cell_type": "code",
   "execution_count": null,
   "metadata": {},
   "outputs": [],
   "source": []
  }
 ],
 "metadata": {
  "kernelspec": {
   "display_name": "Scala",
   "language": "scala",
   "name": "scala"
  },
  "language_info": {
   "codemirror_mode": "text/x-scala",
   "file_extension": ".sc",
   "mimetype": "text/x-scala",
   "name": "scala",
   "nbconvert_exporter": "script",
   "version": "2.13.3"
  }
 },
 "nbformat": 4,
 "nbformat_minor": 4
}
